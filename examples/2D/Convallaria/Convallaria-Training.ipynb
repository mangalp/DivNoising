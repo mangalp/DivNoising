{
 "cells": [
  {
   "cell_type": "markdown",
   "metadata": {},
   "source": [
    "# DivNoising - Training\n",
    "This notebook contains an example on how to train a DivNoising VAE.  This requires having a noise model (model of the imaging noise) which can be either measured from calibration data or estimated from raw noisy images themselves. If you haven't done so, please first run 'Convallaria-CreateNoiseModel.ipynb', which will download the data and create a noise model. "
   ]
  },
  {
   "cell_type": "code",
   "execution_count": 1,
   "metadata": {
    "collapsed": true
   },
   "outputs": [],
   "source": [
    "# We import all our dependencies.\n",
    "import numpy as np\n",
    "import torch\n",
    "import torch.nn as nn\n",
    "import torch.nn.functional as F\n",
    "import torch.optim as optim\n",
    "from torch.utils.data import TensorDataset\n",
    "from torch.utils.data import Dataset, DataLoader\n",
    "from torch.nn import init\n",
    "import os\n",
    "import glob\n",
    "from tifffile import imread\n",
    "from matplotlib import pyplot as plt\n",
    "\n",
    "import sys\n",
    "sys.path.append('../../')\n",
    "from divnoising import dataLoader\n",
    "from divnoising import utils\n",
    "from divnoising import training\n",
    "from nets import model\n",
    "from divnoising import histNoiseModel\n",
    "from divnoising.gaussianMixtureNoiseModel import GaussianMixtureNoiseModel\n",
    "\n",
    "import urllib\n",
    "import os\n",
    "import zipfile\n",
    "\n",
    "from tqdm import tqdm"
   ]
  },
  {
   "cell_type": "code",
   "execution_count": 2,
   "metadata": {
    "collapsed": true
   },
   "outputs": [],
   "source": [
    "device = torch.device(\"cuda:0\")"
   ]
  },
  {
   "cell_type": "markdown",
   "metadata": {},
   "source": [
    "### Specify ```path``` to load data\n",
    "Your data should be stored in the directory indicated by ```path```."
   ]
  },
  {
   "cell_type": "code",
   "execution_count": 4,
   "metadata": {
    "collapsed": true
   },
   "outputs": [],
   "source": [
    "path=\"./data/Convallaria_diaphragm/\"\n",
    "observation= imread(path+'20190520_tl_25um_50msec_05pc_488_130EM_Conv.tif')"
   ]
  },
  {
   "cell_type": "markdown",
   "metadata": {},
   "source": [
    "# Training Data Preparation"
   ]
  },
  {
   "cell_type": "markdown",
   "metadata": {},
   "source": [
    "For training we need to follow some preprocessing steps first which will prepare the data for training purposes."
   ]
  },
  {
   "cell_type": "markdown",
   "metadata": {},
   "source": [
    "### Data preprocessing\n",
    "We first divide the data into training and validation sets with 85% images allocated to training set  and rest to validation set. Then we augment the training data 8-fold by 90 degree rotations and flips."
   ]
  },
  {
   "cell_type": "code",
   "execution_count": 5,
   "metadata": {},
   "outputs": [
    {
     "name": "stdout",
     "output_type": "stream",
     "text": [
      "Shape of training images: (85, 1024, 1024) Shape of validation images: (15, 1024, 1024)\n",
      "Raw image size after augmentation (680, 1024, 1024)\n"
     ]
    }
   ],
   "source": [
    "train_images = observation[:int(0.85*observation.shape[0])]\n",
    "val_images = observation[int(0.85*observation.shape[0]):]\n",
    "print(\"Shape of training images:\", train_images.shape, \"Shape of validation images:\", val_images.shape)\n",
    "train_images = utils.augment_data(train_images)"
   ]
  },
  {
   "cell_type": "markdown",
   "metadata": {},
   "source": [
    "We extract overlapping patches of size ```patch_size x patch_size``` from training and validation images. Specify the parameter ```patch_size```. The number of patches to be extracted is automatically determined depending on the size of images."
   ]
  },
  {
   "cell_type": "code",
   "execution_count": 6,
   "metadata": {},
   "outputs": [
    {
     "name": "stderr",
     "output_type": "stream",
     "text": [
      "100%|██████████| 680/680 [00:04<00:00, 151.58it/s]\n",
      "100%|██████████| 15/15 [00:00<00:00, 157.53it/s]\n"
     ]
    }
   ],
   "source": [
    "patch_size = 128\n",
    "img_width = observation.shape[2]\n",
    "img_height = observation.shape[1]\n",
    "num_patches = int(float(img_width*img_height)/float(patch_size**2)*2)\n",
    "\n",
    "x_train_crops = utils.extract_patches(train_images, patch_size, num_patches)\n",
    "x_val_crops = utils.extract_patches(val_images, patch_size, num_patches)"
   ]
  },
  {
   "cell_type": "markdown",
   "metadata": {},
   "source": [
    "Finally, we compute the mean and standard deviation of our combined train and validation sets and do some additional preprocessing."
   ]
  },
  {
   "cell_type": "code",
   "execution_count": 7,
   "metadata": {
    "collapsed": true
   },
   "outputs": [],
   "source": [
    "data_mean, data_std = utils.getMeanStdData(train_images, val_images)\n",
    "\n",
    "x_train, x_val = utils.convertToFloat32(x_train_crops, x_val_crops)\n",
    "x_train_extra_axis = x_train[:,np.newaxis]\n",
    "x_val_extra_axis = x_val[:,np.newaxis]\n",
    "\n",
    "x_train_tensor = utils.convertNumpyToTensor(x_train_extra_axis)\n",
    "x_val_tensor = utils.convertNumpyToTensor(x_val_extra_axis)"
   ]
  },
  {
   "cell_type": "code",
   "execution_count": 8,
   "metadata": {},
   "outputs": [
    {
     "name": "stdout",
     "output_type": "stream",
     "text": [
      "Shape of training tensor: torch.Size([87040, 1, 128, 128])\n"
     ]
    }
   ],
   "source": [
    "print(\"Shape of training tensor:\", x_train_tensor.shape)"
   ]
  },
  {
   "cell_type": "markdown",
   "metadata": {},
   "source": [
    "# Configure DivNoising model"
   ]
  },
  {
   "cell_type": "markdown",
   "metadata": {},
   "source": [
    "Here we specify some parameters of our DivNoising network needed for training. <br> \n",
    "The parameter <code>z_dim</code> specifies the size of the bottleneck dimension corresponding to each pixel. <br> \n",
    "The parameter <code>in_channels</code> specifies the number of input channels which for this dataset is 1.<br> \n",
    "We currently have support for only 1 channel input but it may be extended to arbitrary number of channels in the future. <br>\n",
    "The parameter <code>init_filters</code> specifies the number of filters in the first layer of the network. <br>\n",
    "The parameter <code>n_depth</code> specifies the depth of the network. \n",
    "The parameter <code>batch_size</code> specifies the batch size used for training. <br>\n",
    "The parameter <code>n_filters_per_depth</code> specifies the number of convolutions per depth. <br>\n",
    "The parameter <code>directory_path</code> specifies the directory where the model will be saved. <br>\n",
    "The parameter <code>n_epochs</code> specifies the number of training epochs. <br>\n",
    "The parameter <code>lr</code> specifies the learning rate. <br>\n",
    "The parameter <code>val_loss_patience</code> specifies the number of epochs after which training will be terminated if the validation loss does not decrease by a factor of 1e-6. <br>\n",
    "The parameter <code>noiseModel</code> is the noise model you want to use. Run the notebook  ```Convallaria-CreateNoiseModel.ipynb```, if you have not yet generated the noise model for this dataset yet. If set to None a Gaussian noise model is used.<br>\n",
    "The parameter <code>gaussian_noise_std</code> is the standard deviation of the Gaussian noise model. This should only be set if 'noiseModel' is None. Otherwise, if you have created a noise model already, set it to ```None```. <br>\n",
    "The parameter <code>model_name</code> specifies the name of the model with which the weights will be saved for prediction later.\n",
    "\n",
    "__Note:__ We observed good performance of the DivNosing network for most datasets with the default settings in the next cell. However, we also observed that playing with the paramaters sensibly can also improve performance."
   ]
  },
  {
   "cell_type": "code",
   "execution_count": 9,
   "metadata": {
    "collapsed": true
   },
   "outputs": [],
   "source": [
    "z_dim=64\n",
    "in_channels = 1\n",
    "init_filters = 32\n",
    "n_filters_per_depth=2\n",
    "n_depth=2\n",
    "batch_size=32\n",
    "directory_path = \"./\"\n",
    "n_epochs = int(22000000/(x_train_tensor.shape[0])) # A heurisitc to set the number of epochs\n",
    "lr=0.001\n",
    "val_loss_patience = 100\n",
    "gaussian_noise_std = None\n",
    "#noise_model_params= np.load(\"/home/krull/fileserver/experiments/ReDo/convallaria/GMMNoiseModel_convallaria_3_2_calibration.npz\")\n",
    "noise_model_params= np.load(\"data/Convallaria_diaphragm/GMMNoiseModel_convallaria_3_2_calibration.npz\")\n",
    "noiseModel = GaussianMixtureNoiseModel(params = noise_model_params, device = device)\n",
    "model_name = \"convallaria-\""
   ]
  },
  {
   "cell_type": "markdown",
   "metadata": {},
   "source": [
    "# Train network\n",
    "\n",
    "__Note:__ We observed that for certain datasets, the KL loss goes towards 0. This phenomenon is called ```posterior collapse``` and is undesirable.\n",
    "We prevent it by aborting and restarting the training once the KL dropy below a threshold (```kl_min```).\n",
    "An alternative approach is a technique called *KL Annealing* where we increase the weight on KL divergence loss term from 0 to 1 gradually in a numer of steps.\n",
    "This cann be activated by setting the parameter ```kl_annealing``` to ```True```. <br>\n",
    "The parameter ```kl_start``` specifies the epoch when KL annelaing will start. <br>\n",
    "The parameter ```kl_annealtime``` specifies until which epoch KL annealing will be operational. <br>\n",
    "If the parameter ```kl_annealing``` is set to ```False```, the values of ```kl_start``` and  ```kl_annealtime``` are ignored."
   ]
  },
  {
   "cell_type": "code",
   "execution_count": null,
   "metadata": {},
   "outputs": [
    {
     "name": "stdout",
     "output_type": "stream",
     "text": [
      "start training: attempt 1\n",
      "postersior collapse: aborting\n",
      "start training: attempt 2\n",
      "postersior collapse: aborting\n",
      "start training: attempt 3\n",
      "Epoch[1/252] Training Loss: 6.474 Reconstruction Loss: 6.306 KL Loss: 0.167\n",
      "kl_weight: 1.0\n",
      "saving ./convallaria-last_vae.net\n",
      "saving ./convallaria-best_vae.net\n",
      "Patience: 0 Validation Loss: 6.30342960357666 Min validation loss: 6.30342960357666\n",
      "Time for epoch: 151seconds\n",
      "Est remaining time: 10:31:41 or 37901 seconds\n",
      "----------------------------------------\n"
     ]
    }
   ],
   "source": [
    "train_dataset = dataLoader.MyDataset(x_train_tensor,x_train_tensor)\n",
    "val_dataset = dataLoader.MyDataset(x_val_tensor,x_val_tensor)\n",
    "\n",
    "trainHist, reconHist, klHist, valHist = None, None, None, None\n",
    "attempts=0\n",
    "while trainHist is None:\n",
    "    attempts+=1\n",
    "    print('start training: attempt '+ str(attempts))\n",
    "    vae = model.VAE(z_dim=z_dim, \n",
    "                    in_channels=in_channels,\n",
    "                    init_filters = init_filters, \n",
    "                    n_filters_per_depth=n_filters_per_depth,\n",
    "                    n_depth=n_depth)\n",
    "    train_loader = DataLoader(train_dataset, batch_size=batch_size, shuffle=True)\n",
    "    val_loader = DataLoader(val_dataset, batch_size=batch_size, shuffle=True)\n",
    "    trainHist, reconHist, klHist, valHist = training.trainNetwork(net=vae, train_loader=train_loader, \n",
    "                                                                     val_loader=val_loader,\n",
    "                                                                     device=device,directory_path=directory_path,\n",
    "                                                                     model_name=model_name,\n",
    "                                                                     n_epochs=n_epochs, batch_size=batch_size,lr=lr,\n",
    "                                                                     val_loss_patience = val_loss_patience,\n",
    "                                                                     kl_annealing = False,\n",
    "                                                                     kl_start = 0, \n",
    "                                                                     kl_annealtime = 3,\n",
    "                                                                     kl_min=1e-5,\n",
    "                                                                     data_mean =data_mean,data_std=data_std, \n",
    "                                                                     noiseModel = noiseModel,\n",
    "                                                                     gaussian_noise_std = gaussian_noise_std)\n",
    "    "
   ]
  },
  {
   "cell_type": "markdown",
   "metadata": {},
   "source": [
    "# Plotting losses"
   ]
  },
  {
   "cell_type": "code",
   "execution_count": 11,
   "metadata": {
    "collapsed": true
   },
   "outputs": [],
   "source": [
    "trainHist=np.load(directory_path+\"/train_loss.npy\")\n",
    "reconHist=np.load(directory_path+\"/train_reco_loss.npy\")\n",
    "klHist=np.load(directory_path+\"/train_kl_loss.npy\")\n",
    "valHist=np.load(directory_path+\"/val_loss.npy\")"
   ]
  },
  {
   "cell_type": "code",
   "execution_count": 14,
   "metadata": {},
   "outputs": [
    {
     "data": {
      "image/png": "[encoded data removed]",
      "text/plain": [
       "<Figure size 1296x216 with 3 Axes>"
      ]
     },
     "metadata": {
      "needs_background": "light"
     },
     "output_type": "display_data"
    }
   ],
   "source": [
    "plt.figure(figsize=(18, 3))\n",
    "plt.subplot(1,3,1)\n",
    "plt.plot(trainHist,label='training')\n",
    "plt.plot(valHist,label='validation')\n",
    "plt.xlabel(\"epochs\")\n",
    "plt.ylabel(\"loss\")\n",
    "plt.legend()\n",
    "\n",
    "plt.subplot(1,3,2)\n",
    "plt.plot(reconHist,label='training')\n",
    "plt.xlabel(\"epochs\")\n",
    "plt.ylabel(\"reconstruction loss\")\n",
    "plt.legend()\n",
    "\n",
    "plt.subplot(1,3,3)\n",
    "plt.plot(klHist,label='training')\n",
    "plt.xlabel(\"epochs\")\n",
    "plt.ylabel(\"KL loss\")\n",
    "plt.legend()\n",
    "plt.show()"
   ]
  }
 ],
 "metadata": {
  "kernelspec": {
   "display_name": "Python 3",
   "language": "python",
   "name": "python3"
  },
  "language_info": {
   "codemirror_mode": {
    "name": "ipython",
    "version": 3
   },
   "file_extension": ".py",
   "mimetype": "text/x-python",
   "name": "python",
   "nbconvert_exporter": "python",
   "pygments_lexer": "ipython3",
   "version": "3.6.1"
  }
 },
 "nbformat": 4,
 "nbformat_minor": 2
}
